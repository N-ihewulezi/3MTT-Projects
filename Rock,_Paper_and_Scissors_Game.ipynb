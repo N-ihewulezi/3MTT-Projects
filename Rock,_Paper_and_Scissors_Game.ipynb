{
  "nbformat": 4,
  "nbformat_minor": 0,
  "metadata": {
    "colab": {
      "provenance": [],
      "authorship_tag": "ABX9TyN3BKLKbY8r2x4T1tyUn4HQ",
      "include_colab_link": true
    },
    "kernelspec": {
      "name": "python3",
      "display_name": "Python 3"
    },
    "language_info": {
      "name": "python"
    }
  },
  "cells": [
    {
      "cell_type": "markdown",
      "metadata": {
        "id": "view-in-github",
        "colab_type": "text"
      },
      "source": [
        "<a href=\"https://colab.research.google.com/github/N-ihewulezi/3MTT-Projects/blob/main/Rock%2C_Paper_and_Scissors_Game.ipynb\" target=\"_parent\"><img src=\"https://colab.research.google.com/assets/colab-badge.svg\" alt=\"Open In Colab\"/></a>"
      ]
    },
    {
      "cell_type": "code",
      "execution_count": 1,
      "metadata": {
        "colab": {
          "base_uri": "https://localhost:8080/"
        },
        "id": "NEB0AeimbZ0k",
        "outputId": "3c2ebdcf-2eda-43ae-87a1-4301a7ddbf68"
      },
      "outputs": [
        {
          "output_type": "stream",
          "name": "stdout",
          "text": [
            "What do you choose? Type 0 for Rock, 1 for Paper or 2 for Scissors.\n",
            "1\n",
            "\n",
            "    _______\n",
            "---'   ____)____\n",
            "          ______)\n",
            "          _______)\n",
            "         _______)\n",
            "---.__________)\n",
            "\n",
            "Computer chose: 1\n",
            "\n",
            "    _______\n",
            "---'   ____)____\n",
            "          ______)\n",
            "          _______)\n",
            "         _______)\n",
            "---.__________)\n",
            "\n",
            "It's a draw\n"
          ]
        }
      ],
      "source": [
        "import random\n",
        "from IPython.display import clear_output\n",
        "rock = '''\n",
        "    _______\n",
        "---'   ____)\n",
        "      (_____)\n",
        "      (_____)\n",
        "      (____)\n",
        "---.__(___)\n",
        "'''\n",
        "paper = '''\n",
        "    _______\n",
        "---'   ____)____\n",
        "          ______)\n",
        "          _______)\n",
        "         _______)\n",
        "---.__________)\n",
        "'''\n",
        "scissors = '''\n",
        "    _______\n",
        "---'   ____)____\n",
        "          ______)\n",
        "       __________)\n",
        "      (____)\n",
        "---.__(___)\n",
        "'''\n",
        "\n",
        "\n",
        "\n",
        "game_images = [rock, paper, scissors]\n",
        "\n",
        "user_choice = int(input(\"What do you choose? Type 0 for Rock, 1 for Paper or 2 for Scissors.\\n\"))\n",
        "if user_choice >= 0 and user_choice <= 2:\n",
        "  print(game_images[user_choice])\n",
        "  _\n",
        "computer_choice = random.randint(0, 2)\n",
        "print(f\"Computer chose: {computer_choice}\")\n",
        "print(game_images[computer_choice])\n",
        "\n",
        "if user_choice >= 3 or user_choice < 0:\n",
        "    print(\"Invalid number, you lose!\")\n",
        "elif user_choice == 0 and computer_choice == 2:\n",
        "    print(\"You win!\")\n",
        "elif computer_choice == 0 and user_choice == 2:\n",
        "    print(\"You lose\")\n",
        "elif computer_choice > user_choice:\n",
        "    print(\"You lose\")\n",
        "elif user_choice > computer_choice:\n",
        "    print(\"You win\")\n",
        "elif computer_choice == user_choice:\n",
        "  print(\"It's a draw\")\n",
        "else:\n",
        "    print(\"Invalid number, you lose!\")"
      ]
    }
  ]
}