{
  "nbformat": 4,
  "nbformat_minor": 0,
  "metadata": {
    "colab": {
      "provenance": [],
      "authorship_tag": "ABX9TyPZhpIdjBVuM5WModFyXEAb",
      "include_colab_link": true
    },
    "kernelspec": {
      "name": "python3",
      "display_name": "Python 3"
    },
    "language_info": {
      "name": "python"
    }
  },
  "cells": [
    {
      "cell_type": "markdown",
      "metadata": {
        "id": "view-in-github",
        "colab_type": "text"
      },
      "source": [
        "<a href=\"https://colab.research.google.com/github/N-ihewulezi/3MTT-Projects/blob/main/Number_Guessing_Game.ipynb\" target=\"_parent\"><img src=\"https://colab.research.google.com/assets/colab-badge.svg\" alt=\"Open In Colab\"/></a>"
      ]
    },
    {
      "cell_type": "code",
      "execution_count": null,
      "metadata": {
        "id": "hq6DlLrbEIts"
      },
      "outputs": [],
      "source": [
        "!pip install art\n",
        "from random import randint\n",
        "from art import text2art\n",
        "\n",
        "logo = text2art(\"Number Guessing Game\")\n",
        "\n",
        "EASY_LEVEL_TURNS = 8\n",
        "HARD_LEVEL_TURNS = 5\n",
        "\n",
        "\n",
        "# Function to check users' guess against actual answer\n",
        "def check_answer(user_guess, actual_answer, turns):\n",
        "    \"\"\"Checks answer against guess, returns the number of turns remaining.\"\"\"\n",
        "    if user_guess > actual_answer:\n",
        "        print(\"Too high.\")\n",
        "        return turns - 1\n",
        "    elif user_guess < actual_answer:\n",
        "        print(\"Too low.\")\n",
        "        return turns - 1\n",
        "    else:\n",
        "        print(f\"You got it! The answer was {actual_answer}\")\n",
        "        return None\n",
        "\n",
        "\n",
        "# Function to set difficulty\n",
        "def set_difficulty():\n",
        "    level = input(\"Choose a difficulty. Type 'easy' or 'hard': \")\n",
        "    if level == \"easy\":\n",
        "        return EASY_LEVEL_TURNS\n",
        "    else:\n",
        "        return HARD_LEVEL_TURNS\n",
        "\n",
        "\n",
        "def game():\n",
        "    print(logo)\n",
        "    # Choosing a random number between 1 and 100.\n",
        "    print(\"Welcome to the Number Guessing Game!\")\n",
        "    print(\"I'm thinking of a number between 1 and 100.\")\n",
        "    answer = randint(1, 100)\n",
        "\n",
        "    turns = set_difficulty()\n",
        "\n",
        "    # Repeat the guessing functionality if they get it wrong.\n",
        "    guess = 0\n",
        "    while guess != answer:\n",
        "        print(f\"You have {turns} attempts remaining to guess the number.\")\n",
        "        # Let the user guess a number\n",
        "        guess = int(input(\"Make a guess: \"))\n",
        "        # Track the number of turns and reduce by 1 if they get it wrong\n",
        "        turns = check_answer(guess, answer, turns)\n",
        "        if turns == 0:\n",
        "            print(\"You've run out of guesses, you lose.\")\n",
        "            return\n",
        "        elif guess != answer:\n",
        "            print(\"Guess again.\")\n",
        "\n",
        "\n",
        "\n",
        "\n",
        "game()"
      ]
    }
  ]
}