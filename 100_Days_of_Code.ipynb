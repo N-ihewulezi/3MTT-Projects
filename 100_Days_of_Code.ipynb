{
  "nbformat": 4,
  "nbformat_minor": 0,
  "metadata": {
    "colab": {
      "provenance": [],
      "authorship_tag": "ABX9TyMaI+aVkG7GW3UgVnDVBl57",
      "include_colab_link": true
    },
    "kernelspec": {
      "name": "python3",
      "display_name": "Python 3"
    },
    "language_info": {
      "name": "python"
    }
  },
  "cells": [
    {
      "cell_type": "markdown",
      "metadata": {
        "id": "view-in-github",
        "colab_type": "text"
      },
      "source": [
        "<a href=\"https://colab.research.google.com/github/N-ihewulezi/3MTT-Projects/blob/main/100_Days_of_Code.ipynb\" target=\"_parent\"><img src=\"https://colab.research.google.com/assets/colab-badge.svg\" alt=\"Open In Colab\"/></a>"
      ]
    },
    {
      "cell_type": "code",
      "execution_count": null,
      "metadata": {
        "id": "B9scc8BFw7V1"
      },
      "outputs": [],
      "source": [
        "import random"
      ]
    },
    {
      "cell_type": "code",
      "source": [
        "num = random.randint(1, 100)"
      ],
      "metadata": {
        "id": "Qq21lkYX650u"
      },
      "execution_count": null,
      "outputs": []
    },
    {
      "cell_type": "code",
      "source": [
        "print(num)"
      ],
      "metadata": {
        "colab": {
          "base_uri": "https://localhost:8080/"
        },
        "id": "F1CC_Rl47EZc",
        "outputId": "68d287b3-4b4d-47eb-a168-73461501a863"
      },
      "execution_count": null,
      "outputs": [
        {
          "output_type": "stream",
          "name": "stdout",
          "text": [
            "43\n"
          ]
        }
      ]
    },
    {
      "cell_type": "code",
      "source": [
        "random_num_0_to_1 = random.random() * 10\n",
        "print(random_num_0_to_1)"
      ],
      "metadata": {
        "colab": {
          "base_uri": "https://localhost:8080/"
        },
        "id": "doijC8RN7Jdc",
        "outputId": "c7c60bc9-d6e1-4744-f6d0-895276848ec0"
      },
      "execution_count": null,
      "outputs": [
        {
          "output_type": "stream",
          "name": "stdout",
          "text": [
            "1.5605251768087336\n"
          ]
        }
      ]
    },
    {
      "cell_type": "code",
      "source": [
        "random_float = random.uniform(0, 10)\n",
        "print(random_float)"
      ],
      "metadata": {
        "colab": {
          "base_uri": "https://localhost:8080/"
        },
        "id": "lI2o2qLqA3_0",
        "outputId": "c305feee-b7af-4021-ced6-40c0ee825dbb"
      },
      "execution_count": null,
      "outputs": [
        {
          "output_type": "stream",
          "name": "stdout",
          "text": [
            "6.4367332409459985\n"
          ]
        }
      ]
    },
    {
      "cell_type": "code",
      "source": [
        "Heads_or_Tails = random.randint(0, 1)\n",
        "if Heads_or_Tails == 1:\n",
        "    print(\"Heads\")\n",
        "else:\n",
        "    print(\"Tails\")"
      ],
      "metadata": {
        "colab": {
          "base_uri": "https://localhost:8080/"
        },
        "id": "y_S1G24fIYAb",
        "outputId": "5e845243-3978-4914-c828-afcf03fa15bc"
      },
      "execution_count": null,
      "outputs": [
        {
          "output_type": "stream",
          "name": "stdout",
          "text": [
            "Tails\n"
          ]
        }
      ]
    },
    {
      "cell_type": "code",
      "source": [
        "heads_or_tails = random.choice([\"Heads\", \"Tails\"])\n",
        "print(heads_or_tails)"
      ],
      "metadata": {
        "colab": {
          "base_uri": "https://localhost:8080/"
        },
        "id": "1A15SoEUJZb7",
        "outputId": "b97160cb-5c3f-48df-b7dd-7266879c4fb5"
      },
      "execution_count": null,
      "outputs": [
        {
          "output_type": "stream",
          "name": "stdout",
          "text": [
            "Tails\n"
          ]
        }
      ]
    },
    {
      "cell_type": "markdown",
      "source": [
        "*Write a code to pick random names from the list*"
      ],
      "metadata": {
        "id": "j9-dP1ZbW5tQ"
      }
    },
    {
      "cell_type": "code",
      "source": [
        "friends = [\"Alice\", \"Bob\", \"Charlie\", \"David\", \"Emmanuel\"]"
      ],
      "metadata": {
        "id": "fJH-qxuDJlaM"
      },
      "execution_count": null,
      "outputs": []
    },
    {
      "cell_type": "code",
      "source": [
        "import random\n",
        "print(random.choice(friends))"
      ],
      "metadata": {
        "colab": {
          "base_uri": "https://localhost:8080/"
        },
        "id": "31hDXbdHXI2S",
        "outputId": "e869268c-d7c5-4f2b-8e32-d19d481a8ee2"
      },
      "execution_count": null,
      "outputs": [
        {
          "output_type": "stream",
          "name": "stdout",
          "text": [
            "Charlie\n"
          ]
        }
      ]
    },
    {
      "cell_type": "code",
      "source": [
        "random_index = random.randint(0, len(friends) - 1)\n",
        "print(friends[random_index])"
      ],
      "metadata": {
        "colab": {
          "base_uri": "https://localhost:8080/"
        },
        "id": "0y-UCMtqXOOF",
        "outputId": "edec344c-41b3-458f-ef52-e3570a1d121b"
      },
      "execution_count": null,
      "outputs": [
        {
          "output_type": "stream",
          "name": "stdout",
          "text": [
            "Alice\n"
          ]
        }
      ]
    },
    {
      "cell_type": "code",
      "source": [
        "selected = random.sample(friends, 2)\n",
        "print(selected)"
      ],
      "metadata": {
        "colab": {
          "base_uri": "https://localhost:8080/"
        },
        "id": "GdiXleWJYKy1",
        "outputId": "a201110a-5a96-41fd-aaee-b42165c00836"
      },
      "execution_count": null,
      "outputs": [
        {
          "output_type": "stream",
          "name": "stdout",
          "text": [
            "['David', 'Bob']\n"
          ]
        }
      ]
    },
    {
      "cell_type": "code",
      "source": [
        "pick = random.randint(0, 4)\n",
        "print(friends[pick])"
      ],
      "metadata": {
        "colab": {
          "base_uri": "https://localhost:8080/"
        },
        "id": "pQBmIqoTYUOU",
        "outputId": "07fe23d6-35ed-4f8e-806d-ca7676de424b"
      },
      "execution_count": null,
      "outputs": [
        {
          "output_type": "stream",
          "name": "stdout",
          "text": [
            "Emmanuel\n"
          ]
        }
      ]
    },
    {
      "cell_type": "code",
      "source": [
        "length = len(friends)\n",
        "print(length)"
      ],
      "metadata": {
        "colab": {
          "base_uri": "https://localhost:8080/"
        },
        "id": "EDlbqQz5Yor4",
        "outputId": "b82ec4ab-4328-4409-9c37-6cae4ace46e2"
      },
      "execution_count": null,
      "outputs": [
        {
          "output_type": "stream",
          "name": "stdout",
          "text": [
            "5\n"
          ]
        }
      ]
    },
    {
      "cell_type": "markdown",
      "source": [
        "# ***Nested List***"
      ],
      "metadata": {
        "id": "FCVGQ0WVZ4op"
      }
    },
    {
      "cell_type": "code",
      "source": [
        "dirty_dozen = [\"Strawberries\", \"Spinach\", \"Kale\", \"Nectarines\", \"Apples\", \"Grapes\", \"Peaches\", \"Cherries\", \"Pears\", \"Tomatoes\", \"Celery\", \"Potatoes\"]"
      ],
      "metadata": {
        "id": "dp32Wh5AZhhx"
      },
      "execution_count": null,
      "outputs": []
    },
    {
      "cell_type": "code",
      "source": [
        "fruits = [\"Strawberries\", \"Nectarines\", \"Apples\", \"Grapes\", \"Peaches\", \"Cherries\", \"Pears\"]\n",
        "vegetables = [\"Spinach\", \"Kale\", \"Tomatoes\", \"Celery\", \"Potatoes\"]"
      ],
      "metadata": {
        "id": "iftwKVUlaFjo"
      },
      "execution_count": null,
      "outputs": []
    },
    {
      "cell_type": "code",
      "source": [
        "dirty_dozen = [fruits, vegetables]"
      ],
      "metadata": {
        "id": "e6HJxRj3aXcy"
      },
      "execution_count": null,
      "outputs": []
    },
    {
      "cell_type": "code",
      "source": [
        "print(dirty_dozen)"
      ],
      "metadata": {
        "colab": {
          "base_uri": "https://localhost:8080/"
        },
        "id": "27EsnCbuafyi",
        "outputId": "c7a8058e-fc39-4968-c937-e9c77853969a"
      },
      "execution_count": null,
      "outputs": [
        {
          "output_type": "stream",
          "name": "stdout",
          "text": [
            "[['Strawberries', 'Nectarines', 'Apples', 'Grapes', 'Peaches', 'Cherries', 'Pears'], ['Spinach', 'Kale', 'Tomatoes', 'Celery', 'Potatoes']]\n"
          ]
        }
      ]
    },
    {
      "cell_type": "code",
      "source": [
        "print(dirty_dozen[1][1])"
      ],
      "metadata": {
        "colab": {
          "base_uri": "https://localhost:8080/"
        },
        "id": "yJksHKwdajNz",
        "outputId": "af702f07-3b8e-419d-b28e-6e910299c080"
      },
      "execution_count": null,
      "outputs": [
        {
          "output_type": "stream",
          "name": "stdout",
          "text": [
            "Kale\n"
          ]
        }
      ]
    },
    {
      "cell_type": "markdown",
      "source": [
        "***Rock, Paper and Scissors Game***"
      ],
      "metadata": {
        "id": "CAB6bEO0F1sj"
      }
    },
    {
      "cell_type": "code",
      "source": [
        "rock = '''\n",
        "    _______\n",
        "---'   ____)\n",
        "      (_____)\n",
        "      (_____)\n",
        "      (____)\n",
        "---.__(___)\n",
        "'''\n",
        "paper = '''\n",
        "    _______\n",
        "---'   ____)____\n",
        "          ______)\n",
        "          _______)\n",
        "         _______)\n",
        "---.__________)\n",
        "'''\n",
        "scissors = '''\n",
        "    _______\n",
        "---'   ____)____\n",
        "          ______)\n",
        "       __________)\n",
        "      (____)\n",
        "---.__(___)\n",
        "'''\n",
        "\n",
        "\n",
        "\n",
        "game_images = [rock, paper, scissors]\n",
        "\n",
        "user_choice = int(input(\"What do you choose? Type 0 for Rock, 1 for Paper or 2 for Scissors.\\n\"))\n",
        "if user_choice >= 0 and user_choice <= 2:\n",
        "  print(game_images[user_choice])\n",
        "  _\n",
        "computer_choice = random.randint(0, 2)\n",
        "print(f\"Computer chose: {computer_choice}\")\n",
        "print(game_images[computer_choice])\n",
        "\n",
        "if user_choice >= 3 or user_choice < 0:\n",
        "    print(\"Invalid number, you lose!\")\n",
        "elif user_choice == 0 and computer_choice == 2:\n",
        "    print(\"You win!\")\n",
        "elif computer_choice == 0 and user_choice == 2:\n",
        "    print(\"You lose\")\n",
        "elif computer_choice > user_choice:\n",
        "    print(\"You lose\")\n",
        "elif user_choice > computer_choice:\n",
        "    print(\"You win\")\n",
        "elif computer_choice == user_choice:\n",
        "  print(\"It's a draw\")\n",
        "else:\n",
        "    print(\"Invalid number, you lose!\")"
      ],
      "metadata": {
        "colab": {
          "base_uri": "https://localhost:8080/"
        },
        "id": "NEB0AeimbZ0k",
        "outputId": "11b6f70c-56e6-4d02-a68e-5d5ea1d5287a"
      },
      "execution_count": null,
      "outputs": [
        {
          "output_type": "stream",
          "name": "stdout",
          "text": [
            "What do you choose? Type 0 for Rock, 1 for Paper or 2 for Scissors.\n",
            "2\n",
            "\n",
            "    _______\n",
            "---'   ____)____\n",
            "          ______)\n",
            "       __________)\n",
            "      (____)\n",
            "---.__(___)\n",
            "\n",
            "Computer chose: 0\n",
            "\n",
            "    _______\n",
            "---'   ____)\n",
            "      (_____)\n",
            "      (_____)\n",
            "      (____)\n",
            "---.__(___)\n",
            "\n",
            "You lose\n"
          ]
        }
      ]
    },
    {
      "cell_type": "code",
      "source": [
        "fruits = [\"Apple\", \"Peach\", \"Pear\"]\n",
        "for fruit in fruits:\n",
        "    print(fruit)\n",
        "\n"
      ],
      "metadata": {
        "id": "y2r26u96dOEd",
        "colab": {
          "base_uri": "https://localhost:8080/"
        },
        "outputId": "c3ed62a8-86c6-418b-f2cb-0b585c153046"
      },
      "execution_count": null,
      "outputs": [
        {
          "output_type": "stream",
          "name": "stdout",
          "text": [
            "Apple\n",
            "Peach\n",
            "Pear\n"
          ]
        }
      ]
    },
    {
      "cell_type": "code",
      "source": [
        "print(fruits)"
      ],
      "metadata": {
        "id": "JDdJoKYAeI4m",
        "colab": {
          "base_uri": "https://localhost:8080/"
        },
        "outputId": "81e11a39-01a0-4a1d-f7d6-3a774b26cf89"
      },
      "execution_count": null,
      "outputs": [
        {
          "output_type": "stream",
          "name": "stdout",
          "text": [
            "['Apple', 'Peach', 'Pear']\n"
          ]
        }
      ]
    },
    {
      "cell_type": "code",
      "source": [
        "for fruit in fruits:\n",
        "    print(fruit + \" pie\")\n"
      ],
      "metadata": {
        "colab": {
          "base_uri": "https://localhost:8080/"
        },
        "id": "MWzgCEFA-zLt",
        "outputId": "825181ca-4e49-4ac2-f6a1-7fdcaeaa920d"
      },
      "execution_count": null,
      "outputs": [
        {
          "output_type": "stream",
          "name": "stdout",
          "text": [
            "Apple pie\n",
            "Peach pie\n",
            "Pear pie\n"
          ]
        }
      ]
    },
    {
      "cell_type": "code",
      "source": [
        "student_scores = [150, 142, 185, 120, 171, 184, 140, 24, 59, 68, 199, 78, 65, 89, 86, 55, 91, 64, 89]\n",
        "total_exam_score = sum(student_scores)\n",
        "print(total_exam_score)"
      ],
      "metadata": {
        "colab": {
          "base_uri": "https://localhost:8080/"
        },
        "id": "0ikXlHwE_Rm6",
        "outputId": "00456a94-c705-41df-d001-01cde2ab0d61"
      },
      "execution_count": null,
      "outputs": [
        {
          "output_type": "stream",
          "name": "stdout",
          "text": [
            "2059\n"
          ]
        }
      ]
    },
    {
      "cell_type": "markdown",
      "source": [
        "***Using for loop to get total exam scores***"
      ],
      "metadata": {
        "id": "DGv-_CkCB63m"
      }
    },
    {
      "cell_type": "code",
      "source": [
        "sum_score = 0\n",
        "for score in student_scores:\n",
        "    sum_score += score\n",
        "print(sum_score)"
      ],
      "metadata": {
        "colab": {
          "base_uri": "https://localhost:8080/"
        },
        "id": "O4G_izs0ALlq",
        "outputId": "cea4c20c-1f1d-4524-d39e-9f14bc533270"
      },
      "execution_count": null,
      "outputs": [
        {
          "output_type": "stream",
          "name": "stdout",
          "text": [
            "2059\n"
          ]
        }
      ]
    },
    {
      "cell_type": "markdown",
      "source": [
        "***Check for maximum score***"
      ],
      "metadata": {
        "id": "sZ7jwQKGBwZ8"
      }
    },
    {
      "cell_type": "code",
      "source": [
        "max_score = 0\n",
        "for score in student_scores:\n",
        "    if score > max_score:\n",
        "        max_score = score\n",
        "print(max_score)"
      ],
      "metadata": {
        "colab": {
          "base_uri": "https://localhost:8080/"
        },
        "id": "N1zYQHYFAV2K",
        "outputId": "8f7ef54d-f787-4c8a-bf50-403111c89a0d"
      },
      "execution_count": null,
      "outputs": [
        {
          "output_type": "stream",
          "name": "stdout",
          "text": [
            "199\n"
          ]
        }
      ]
    },
    {
      "cell_type": "markdown",
      "source": [
        "***Using For loop with the range function***"
      ],
      "metadata": {
        "id": "Zu_GXLexFiej"
      }
    },
    {
      "cell_type": "markdown",
      "source": [
        "a <= range(a, b) < b\n",
        "*By default the range function runs by one step unless the step is defined.*\n",
        "\n"
      ],
      "metadata": {
        "id": "zrxdzP4RCbdQ"
      }
    },
    {
      "cell_type": "code",
      "source": [
        "for number in range(1, 11):\n",
        "    print(number)"
      ],
      "metadata": {
        "colab": {
          "base_uri": "https://localhost:8080/"
        },
        "id": "yku1C3PYCCl4",
        "outputId": "d009a8c3-f13f-4754-aef1-9e1d1c19fa04"
      },
      "execution_count": null,
      "outputs": [
        {
          "output_type": "stream",
          "name": "stdout",
          "text": [
            "1\n",
            "2\n",
            "3\n",
            "4\n",
            "5\n",
            "6\n",
            "7\n",
            "8\n",
            "9\n",
            "10\n"
          ]
        }
      ]
    },
    {
      "cell_type": "code",
      "source": [
        "for number in range(1, 11, 3):\n",
        "    print(number)"
      ],
      "metadata": {
        "colab": {
          "base_uri": "https://localhost:8080/"
        },
        "id": "kXDS8rPLFjPk",
        "outputId": "bd1b5ad4-4129-4411-e779-685611a422e9"
      },
      "execution_count": null,
      "outputs": [
        {
          "output_type": "stream",
          "name": "stdout",
          "text": [
            "1\n",
            "4\n",
            "7\n",
            "10\n"
          ]
        }
      ]
    },
    {
      "cell_type": "code",
      "source": [
        "sum_number = 0\n",
        "for number in range(1, 101):\n",
        "    sum_number += number\n",
        "print(sum_number)"
      ],
      "metadata": {
        "colab": {
          "base_uri": "https://localhost:8080/"
        },
        "id": "DAFW96AsE_H6",
        "outputId": "b12227a4-3d94-4452-e6fe-7a1cc1b2221c"
      },
      "execution_count": null,
      "outputs": [
        {
          "output_type": "stream",
          "name": "stdout",
          "text": [
            "5050\n"
          ]
        }
      ]
    },
    {
      "cell_type": "markdown",
      "source": [
        "\n",
        "\n",
        "You are going to write a program that automatically prints the solution to the FizzBuzz game. These are the rules of the FizzBuzz game:\n",
        "\n",
        "*   Your program should print each number from 1 to 100 in turn and include number 100.\n",
        "\n",
        "*   But when the number is divisible by 3 then instead of printing the number it should print \"Fizz\".\n",
        "\n",
        "*  When the number is divisible by 5, then instead of printing the number it should print \"Buzz\".`\n",
        "\n",
        "*   And if the number is divisible by both 3 and 5 e.g. 15 then instead of the number it should print \"FizzBuzz\""
      ],
      "metadata": {
        "id": "sXf4IU12LZiq"
      }
    },
    {
      "cell_type": "code",
      "source": [
        "for number in range(1, 101):\n",
        "  if number % 3 == 0 and number % 5 == 0:\n",
        "        print(\"FizzBuzz\")\n",
        "  elif number % 3 == 0:\n",
        "        print(\"Fizz\")\n",
        "  elif number % 5 == 0:\n",
        "        print(\"Buzz\")\n",
        "  else:\n",
        "        print(number)"
      ],
      "metadata": {
        "colab": {
          "base_uri": "https://localhost:8080/"
        },
        "id": "1VL_puhPGiVG",
        "outputId": "a1ece41f-f9cc-43dd-89fa-41eb8803bb30"
      },
      "execution_count": null,
      "outputs": [
        {
          "output_type": "stream",
          "name": "stdout",
          "text": [
            "1\n",
            "2\n",
            "Fizz\n",
            "4\n",
            "Buzz\n",
            "Fizz\n",
            "7\n",
            "8\n",
            "Fizz\n",
            "Buzz\n",
            "11\n",
            "Fizz\n",
            "13\n",
            "14\n",
            "FizzBuzz\n",
            "16\n",
            "17\n",
            "Fizz\n",
            "19\n",
            "Buzz\n",
            "Fizz\n",
            "22\n",
            "23\n",
            "Fizz\n",
            "Buzz\n",
            "26\n",
            "Fizz\n",
            "28\n",
            "29\n",
            "FizzBuzz\n",
            "31\n",
            "32\n",
            "Fizz\n",
            "34\n",
            "Buzz\n",
            "Fizz\n",
            "37\n",
            "38\n",
            "Fizz\n",
            "Buzz\n",
            "41\n",
            "Fizz\n",
            "43\n",
            "44\n",
            "FizzBuzz\n",
            "46\n",
            "47\n",
            "Fizz\n",
            "49\n",
            "Buzz\n",
            "Fizz\n",
            "52\n",
            "53\n",
            "Fizz\n",
            "Buzz\n",
            "56\n",
            "Fizz\n",
            "58\n",
            "59\n",
            "FizzBuzz\n",
            "61\n",
            "62\n",
            "Fizz\n",
            "64\n",
            "Buzz\n",
            "Fizz\n",
            "67\n",
            "68\n",
            "Fizz\n",
            "Buzz\n",
            "71\n",
            "Fizz\n",
            "73\n",
            "74\n",
            "FizzBuzz\n",
            "76\n",
            "77\n",
            "Fizz\n",
            "79\n",
            "Buzz\n",
            "Fizz\n",
            "82\n",
            "83\n",
            "Fizz\n",
            "Buzz\n",
            "86\n",
            "Fizz\n",
            "88\n",
            "89\n",
            "FizzBuzz\n",
            "91\n",
            "92\n",
            "Fizz\n",
            "94\n",
            "Buzz\n",
            "Fizz\n",
            "97\n",
            "98\n",
            "Fizz\n",
            "Buzz\n"
          ]
        }
      ]
    },
    {
      "cell_type": "markdown",
      "source": [
        "Password Generator Project"
      ],
      "metadata": {
        "id": "oZumSxsyMHcw"
      }
    },
    {
      "cell_type": "code",
      "source": [
        "import random\n",
        "letters = ['a', 'b', 'c', 'd', 'e', 'f', 'g', 'h', 'i', 'j', 'k', 'l', 'm', 'n', 'o', 'p', 'q', 'r', 's', 't', 'u', 'v', 'w', 'x', 'y', 'z']\n",
        "numbers = ['0', '1', '2', '3', '4', '5', '6', '7', '8', '9']\n",
        "symbols = ['!', '#', '$', '%', '&', '(', ')', '*', '+']\n",
        "\n",
        "print(\"Welcome to the PyPassword Generator!\")\n",
        "nr_letters= int(input(\"How many letters would you like in your password?\\n\"))\n",
        "nr_symbols = int(input(f\"How many symbols would you like?\\n\"))\n",
        "nr_numbers = int(input(f\"How many numbers would you like?\\n\"))\n",
        "\n",
        "# Easy Password\n",
        "password = \"\"\n",
        "for char in range(1, nr_letters):\n",
        "    password += random.choice(letters)\n",
        "\n",
        "for char in range(1, nr_symbols):\n",
        "    password += random.choice(symbols)\n",
        "\n",
        "for char in range(1, nr_numbers):\n",
        "    password += random.choice(numbers)\n",
        "\n",
        "print(password)\n",
        "\n",
        "\n",
        "\n"
      ],
      "metadata": {
        "colab": {
          "base_uri": "https://localhost:8080/"
        },
        "id": "k_8--d9oJQZE",
        "outputId": "74c62a9c-0b97-4ea2-caf7-b44fd93555b8"
      },
      "execution_count": null,
      "outputs": [
        {
          "output_type": "stream",
          "name": "stdout",
          "text": [
            "Welcome to the PyPassword Generator!\n",
            "How many letters would you like in your password?\n",
            "5\n",
            "How many symbols would you like?\n",
            "2\n",
            "How many numbers would you like?\n",
            "4\n",
            "pdyl*516\n"
          ]
        }
      ]
    },
    {
      "cell_type": "markdown",
      "source": [
        "***Difficult Password***"
      ],
      "metadata": {
        "id": "DXloTeG-XIRB"
      }
    },
    {
      "cell_type": "code",
      "source": [
        "print(\"Welcome to the PyPassword Generator!\")\n",
        "nr_letters= int(input(\"How many letters would you like in your password?\\n\"))\n",
        "nr_symbols = int(input(f\"How many symbols would you like?\\n\"))\n",
        "nr_numbers = int(input(f\"How many numbers would you like?\\n\"))\n",
        "\n",
        "password_list = []\n",
        "for char in range(1, nr_letters):\n",
        "    password_list.append(random.choice(letters))\n",
        "\n",
        "for char in range(1, nr_symbols):\n",
        "    password_list += random.choice(symbols)\n",
        "\n",
        "for char in range(1, nr_numbers):\n",
        "    password_list += random.choice(numbers)\n",
        "random.shuffle(password_list)\n",
        "\n",
        "for char in password_list:\n",
        "    password += char\n",
        "print(f\"Your password is: {password}\")\n"
      ],
      "metadata": {
        "colab": {
          "base_uri": "https://localhost:8080/"
        },
        "outputId": "babfc5f6-eb26-487a-fbeb-32b4627c75a3",
        "id": "_D63IqJoVoqo"
      },
      "execution_count": null,
      "outputs": [
        {
          "output_type": "stream",
          "name": "stdout",
          "text": [
            "Welcome to the PyPassword Generator!\n",
            "How many letters would you like in your password?\n",
            "5\n",
            "How many symbols would you like?\n",
            "1\n",
            "How many numbers would you like?\n",
            "3\n",
            "Your password is: pdyl*5160p5vmu\n"
          ]
        }
      ]
    },
    {
      "cell_type": "markdown",
      "source": [
        "### **Code Blocks, Functions and While loops**"
      ],
      "metadata": {
        "id": "-o6BFSsMbG7s"
      }
    },
    {
      "cell_type": "markdown",
      "source": [
        "***Functions***"
      ],
      "metadata": {
        "id": "RXrV7f7Mbbj3"
      }
    },
    {
      "cell_type": "code",
      "source": [
        "def my_function():   # used to create a function\n",
        "  print(\"Hello\") #Do this\n",
        "  print('Bye')    #Then do this\n",
        "  print('see you!')  #Finally do this\n",
        "#Finally, call the function\n",
        "my_function()\n"
      ],
      "metadata": {
        "colab": {
          "base_uri": "https://localhost:8080/"
        },
        "id": "uTN_4QlYUSKF",
        "outputId": "97cfaeb4-1f8d-48e0-be06-f5c62aa4108a"
      },
      "execution_count": null,
      "outputs": [
        {
          "output_type": "stream",
          "name": "stdout",
          "text": [
            "Hello\n",
            "Bye\n",
            "see you!\n"
          ]
        }
      ]
    },
    {
      "cell_type": "markdown",
      "source": [
        "https://reeborg.ca/reeborg.html?lang=en&mode=python&menu=worlds%2Fmenus%2Freeborg_intro_en."
      ],
      "metadata": {
        "id": "AUBMuOXAPG7w"
      }
    },
    {
      "cell_type": "code",
      "source": [
        "\"\"\"def turn_right():\n",
        "    turn_left()\n",
        "    turn_left()\n",
        "    turn_left()\n",
        "def jump():\n",
        "    move()\n",
        "    turn_left()\n",
        "    move()\n",
        "    turn_right()\n",
        "    move()\n",
        "    turn_right()\n",
        "    move()\n",
        "    turn_left()\n",
        "\n",
        "jump\n",
        "jump\n",
        "jump\n",
        "jump\n",
        "jump\n",
        "jump\n",
        "   \"\"\""
      ],
      "metadata": {
        "id": "l8j5Su62cwN5"
      },
      "execution_count": null,
      "outputs": []
    },
    {
      "cell_type": "code",
      "source": [
        "\"\"\"def turn_right():\n",
        "    turn_left()\n",
        "    turn_left()\n",
        "    turn_left()\n",
        "def jump():\n",
        "    move()\n",
        "    turn_left()\n",
        "    move()\n",
        "    turn_right()\n",
        "    move()\n",
        "    turn_right()\n",
        "    move()\n",
        "    turn_left()\n",
        "\n",
        "for step in range(6):\n",
        "    jump()\"\"\""
      ],
      "metadata": {
        "id": "vq2ww74_pNda"
      },
      "execution_count": null,
      "outputs": []
    },
    {
      "cell_type": "code",
      "source": [
        "for i in range(7):\n",
        "  print(i)"
      ],
      "metadata": {
        "colab": {
          "base_uri": "https://localhost:8080/"
        },
        "id": "McccN8xYsjvb",
        "outputId": "f41f4cbb-3805-470c-c7fb-134cddbc7521"
      },
      "execution_count": null,
      "outputs": [
        {
          "output_type": "stream",
          "name": "stdout",
          "text": [
            "0\n",
            "1\n",
            "2\n",
            "3\n",
            "4\n",
            "5\n",
            "6\n"
          ]
        }
      ]
    },
    {
      "cell_type": "markdown",
      "source": [
        "***Identation***"
      ],
      "metadata": {
        "id": "cJNK6r6-tFTe"
      }
    },
    {
      "cell_type": "code",
      "source": [
        "#idents are done with 4 spaces from start"
      ],
      "metadata": {
        "id": "_QPZMatQsqyi"
      },
      "execution_count": null,
      "outputs": []
    },
    {
      "cell_type": "markdown",
      "source": [
        "***While Loop***"
      ],
      "metadata": {
        "id": "FXKp6q47xC-T"
      }
    },
    {
      "cell_type": "code",
      "source": [
        "# while something_is_true:\n",
        "    #Do this\n",
        "    #Then do this\n",
        "    #Finally do this"
      ],
      "metadata": {
        "id": "Gd5jCrHsvjYv"
      },
      "execution_count": null,
      "outputs": []
    },
    {
      "cell_type": "markdown",
      "source": [
        "https://reeborg.ca/reeborg.html?lang=en&mode=python&menu=worlds%2Fmenus%2Freeborg_intro_en.json&name=Hurdle%203&url=worlds%2Ftutorial_en%2Fhurdle3.json"
      ],
      "metadata": {
        "id": "-3GbbXc9O5HW"
      }
    },
    {
      "cell_type": "code",
      "source": [
        "\"\"\" hurdle 1\n",
        "def turn_right():\n",
        "    turn_left()\n",
        "    turn_left()\n",
        "    turn_left()\n",
        "def jump():\n",
        "    move()\n",
        "    turn_left()\n",
        "    move()\n",
        "    turn_right()\n",
        "    move()\n",
        "    turn_right()\n",
        "    move()\n",
        "    turn_left()\n",
        "\n",
        "number_of_hurdles = 6\n",
        "while number_of_hurdles > 0:\n",
        "    jump()\n",
        "    number_of_hurdles -= 1\n",
        "    print(number_of_hurdles)\n",
        "\n",
        "\n",
        "\"\"\""
      ],
      "metadata": {
        "id": "3ynLXLpIyvSb"
      },
      "execution_count": null,
      "outputs": []
    },
    {
      "cell_type": "code",
      "source": [
        "\"\"\" hurdle 2\n",
        "def turn_right():\n",
        "    turn_left()\n",
        "    turn_left()\n",
        "    turn_left()\n",
        "def jump():\n",
        "    move()\n",
        "    turn_left()\n",
        "    move()\n",
        "    turn_right()\n",
        "    move()\n",
        "    turn_right()\n",
        "    move()\n",
        "    turn_left()\n",
        "\n",
        "\n",
        "while not at_goal():\n",
        "    jump()\n",
        "\n",
        "\n",
        "\"\"\""
      ],
      "metadata": {
        "id": "kvKunKVn0CeS"
      },
      "execution_count": null,
      "outputs": []
    },
    {
      "cell_type": "code",
      "source": [
        "\"\"\" hurdle 3\n",
        "def turn_right():\n",
        "    turn_left()\n",
        "    turn_left()\n",
        "    turn_left()\n",
        "def jump():\n",
        "    move()\n",
        "    turn_left()\n",
        "    move()\n",
        "    turn_right()\n",
        "    move()\n",
        "    turn_right()\n",
        "    move()\n",
        "    turn_left()\n",
        "\n",
        "\n",
        "while not at_goal():\n",
        "  if wall_in_front():\n",
        "    jump()\n",
        "  else:\n",
        "    move()\n",
        "\n",
        "\n",
        "\"\"\""
      ],
      "metadata": {
        "id": "BXB696FrOpcP"
      },
      "execution_count": null,
      "outputs": []
    },
    {
      "cell_type": "code",
      "source": [
        "\"\"\" hurdle 4\n",
        "def turn_right():\n",
        "    turn_left()\n",
        "    turn_left()\n",
        "    turn_left()\n",
        "\n",
        "def jump():\n",
        "    turn_left()\n",
        "    while wall_on_right():\n",
        "        move()\n",
        "\n",
        "    turn_right()\n",
        "    move()\n",
        "    turn_right()\n",
        "\n",
        "    while front_is clear():\n",
        "        move()\n",
        "    turn_left()\n",
        "\n",
        "while not at_goal():\n",
        "    if wall_in_front():\n",
        "        jump()\n",
        "    else:\n",
        "        move()\n",
        "\n",
        "\"\"\""
      ],
      "metadata": {
        "id": "bvcamBy-o0ar"
      },
      "execution_count": null,
      "outputs": []
    },
    {
      "cell_type": "code",
      "source": [
        "\"\"\" maze\n",
        "def turn_right():\n",
        "    turn_left()\n",
        "    turn_left()\n",
        "\n",
        "    turn_left()\n",
        "\n",
        "while not at_goal():\n",
        "    if right_is_clear():\n",
        "        turn_right()\n",
        "        move()\n",
        "    elif front_is_clear():\n",
        "        move()\n",
        "    else:\n",
        "        turn_left()\n",
        "\n",
        "\n",
        "\"\"\""
      ],
      "metadata": {
        "id": "xTRMcZ69o6W7"
      },
      "execution_count": null,
      "outputs": []
    },
    {
      "cell_type": "code",
      "source": [
        "\"\"\" Robot starting on a wrong direction in the maze that can lead to infinite loop\n",
        "def turn_right():\n",
        "    turn_left()\n",
        "    turn_left()\n",
        "\n",
        "while front_is_clear():\n",
        "    move()\n",
        "turn_left()\n",
        "\n",
        "while not at_goal():\n",
        "    if right_is_clear():\n",
        "        turn_right()\n",
        "        move()\n",
        "    elif front_is_clear():\n",
        "        move()\n",
        "    else:\n",
        "        turn_left()\n",
        "\n",
        "\n",
        "\"\"\""
      ],
      "metadata": {
        "id": "T-Wh_9dbNYJt"
      },
      "execution_count": null,
      "outputs": []
    },
    {
      "cell_type": "markdown",
      "source": [
        "## **Hangman Project**"
      ],
      "metadata": {
        "id": "45NqhH98P-pB"
      }
    },
    {
      "cell_type": "code",
      "source": [
        "import random\n",
        "\n",
        "stages = ['''\n",
        "  +---+\n",
        "  |   |\n",
        "      |\n",
        "      |\n",
        "      |\n",
        "      |\n",
        "=========''', '''\n",
        "  +---+\n",
        "  |   |\n",
        "  O   |\n",
        "      |\n",
        "      |\n",
        "      |\n",
        "=========''', '''\n",
        "  +---+\n",
        "  |   |\n",
        "  O   |\n",
        "  |   |\n",
        "      |\n",
        "      |\n",
        "=========''', '''\n",
        "  +---+\n",
        "  |   |\n",
        "  O   |\n",
        " /|   |\n",
        "      |\n",
        "      |\n",
        "=========''', '''\n",
        "  +---+\n",
        "  |   |\n",
        "  O   |\n",
        " /|\\  |\n",
        "      |\n",
        "      |\n",
        "=========''', '''\n",
        "  +---+\n",
        "  |   |\n",
        "  O   |\n",
        " /|\\  |\n",
        " /    |\n",
        "      |\n",
        "=========''', '''\n",
        "  +---+\n",
        "  |   |\n",
        "  O   |\n",
        " /|\\  |\n",
        " / \\  |\n",
        "      |\n",
        "=========''']\n",
        "\n",
        "lives = 6\n",
        "word_list = [\"ardvark\", \"baboon\", \"camel\"]\n",
        "chosen_word = random.choice(word_list)\n",
        "word_length = len(chosen_word)\n",
        "print(f\"The solution is {chosen_word}\")\n",
        "\n",
        "placeholder = \"\"\n",
        "for _ in range(word_length):\n",
        "    placeholder += \"_\"\n",
        "print(placeholder)\n",
        "\n",
        "game_over = False\n",
        "correct_guess = []\n",
        "\n",
        "while not game_over:\n",
        "    print(f\"*********{lives}/6 LIVES LEFT*********\")\n",
        "\n",
        "    guess = input(\"Guess a letter: \").lower()\n",
        "    if guess in correct_guess:\n",
        "        print(f\"You've already guessed {guess}\")\n",
        "\n",
        "    display = \"\"\n",
        "    for letter in chosen_word:\n",
        "      if letter == guess:\n",
        "        display += letter\n",
        "        correct_guess.append(letter)\n",
        "      elif letter in correct_guess:\n",
        "        display += letter\n",
        "      else:\n",
        "        display += \"_\"\n",
        "    print(display)\n",
        "\n",
        "    if guess not in chosen_word:\n",
        "        lives -= 1\n",
        "        print(f\"You guessed {guess}, that's not in the word. You lose a life\")\n",
        "        if lives == 0:\n",
        "            game_over = True\n",
        "            print(f\"*********It was {chosen_word}************\")\n",
        "\n",
        "\n",
        "    if\"_\" not in display:\n",
        "        game_over = True\n",
        "        print(\"**********You win**********\")\n",
        "    print(stages[lives])\n"
      ],
      "metadata": {
        "colab": {
          "base_uri": "https://localhost:8080/"
        },
        "id": "ung9gzLlVKdr",
        "outputId": "1628463a-a800-4b8e-8dee-32d69bdfca27"
      },
      "execution_count": 11,
      "outputs": [
        {
          "output_type": "stream",
          "name": "stdout",
          "text": [
            "The solution is camel\n",
            "_____\n",
            "*********6/6 LIVES LEFT*********\n",
            "Guess a letter: m\n",
            "__m__\n",
            "\n",
            "  +---+\n",
            "  |   |\n",
            "  O   |\n",
            " /|\\  |\n",
            " / \\  |\n",
            "      |\n",
            "=========\n",
            "*********6/6 LIVES LEFT*********\n",
            "Guess a letter: h\n",
            "__m__\n",
            "You guessed h, that's not in the word. You lose a life\n",
            "\n",
            "  +---+\n",
            "  |   |\n",
            "  O   |\n",
            " /|\\  |\n",
            " /    |\n",
            "      |\n",
            "=========\n",
            "*********5/6 LIVES LEFT*********\n",
            "Guess a letter: l\n",
            "__m_l\n",
            "\n",
            "  +---+\n",
            "  |   |\n",
            "  O   |\n",
            " /|\\  |\n",
            " /    |\n",
            "      |\n",
            "=========\n",
            "*********5/6 LIVES LEFT*********\n",
            "Guess a letter: e\n",
            "__mel\n",
            "\n",
            "  +---+\n",
            "  |   |\n",
            "  O   |\n",
            " /|\\  |\n",
            " /    |\n",
            "      |\n",
            "=========\n",
            "*********5/6 LIVES LEFT*********\n",
            "Guess a letter: c\n",
            "c_mel\n",
            "\n",
            "  +---+\n",
            "  |   |\n",
            "  O   |\n",
            " /|\\  |\n",
            " /    |\n",
            "      |\n",
            "=========\n",
            "*********5/6 LIVES LEFT*********\n",
            "Guess a letter: a\n",
            "camel\n",
            "**********You win**********\n",
            "\n",
            "  +---+\n",
            "  |   |\n",
            "  O   |\n",
            " /|\\  |\n",
            " /    |\n",
            "      |\n",
            "=========\n"
          ]
        }
      ]
    },
    {
      "cell_type": "code",
      "source": [],
      "metadata": {
        "id": "kssjCkkwz5Cx"
      },
      "execution_count": null,
      "outputs": []
    }
  ]
}